{
 "cells": [
  {
   "cell_type": "code",
   "execution_count": 1,
   "id": "429667f0",
   "metadata": {},
   "outputs": [],
   "source": [
    "import numpy as np\n",
    "from sklearn.feature_extraction.text import TfidfVectorizer"
   ]
  },
  {
   "cell_type": "code",
   "execution_count": 2,
   "id": "614ee5ad",
   "metadata": {},
   "outputs": [
    {
     "name": "stdout",
     "output_type": "stream",
     "text": [
      "Sample documents in TF dataset:\n",
      "1 : apple orange banana\n",
      "2 : apple orange fruit\n",
      "3 : banana juice milk\n"
     ]
    }
   ],
   "source": [
    "documents = [\n",
    "    \"apple orange banana\",    \n",
    "    \"apple orange fruit\",    \n",
    "    \"banana juice milk\"       \n",
    "]\n",
    "\n",
    "print(\"Sample documents in TF dataset:\")\n",
    "for i, text in enumerate(documents):\n",
    "    print(f\"{i+1} : {text}\")"
   ]
  },
  {
   "cell_type": "code",
   "execution_count": 4,
   "id": "1983cb3a",
   "metadata": {},
   "outputs": [
    {
     "name": "stdout",
     "output_type": "stream",
     "text": [
      "Vocabulary: ['apple' 'banana' 'fruit' 'juice' 'milk' 'orange']\n",
      "TF-IDF Matrix (dense representation):\n",
      " [[0.57735027 0.57735027 0.         0.         0.         0.57735027]\n",
      " [0.51785612 0.         0.68091856 0.         0.         0.51785612]\n",
      " [0.         0.4736296  0.         0.62276601 0.62276601 0.        ]]\n"
     ]
    }
   ],
   "source": [
    "tfidf_vectorizer = TfidfVectorizer()\n",
    "tfidf_matrix = tfidf_vectorizer.fit_transform(documents)\n",
    "\n",
    "print(\"Vocabulary:\", tfidf_vectorizer.get_feature_names_out())\n",
    "dense_matrix = tfidf_matrix.toarray()\n",
    "print(\"TF-IDF Matrix (dense representation):\\n\", dense_matrix)"
   ]
  },
  {
   "cell_type": "code",
   "execution_count": 5,
   "id": "e0da2057",
   "metadata": {},
   "outputs": [],
   "source": [
    "doc1 = dense_matrix[0]\n",
    "doc2 = dense_matrix[1]\n",
    "doc3 = dense_matrix[2]"
   ]
  },
  {
   "cell_type": "markdown",
   "id": "f24e7830",
   "metadata": {},
   "source": [
    "Cosine similarity between doc1 and doc2"
   ]
  },
  {
   "cell_type": "code",
   "execution_count": null,
   "id": "bcaffb77",
   "metadata": {},
   "outputs": [
    {
     "name": "stdout",
     "output_type": "stream",
     "text": [
      "Cosine similarity between doc1 and doc2 is : 0.5980\n"
     ]
    }
   ],
   "source": [
    "dot_prod = np.dot(doc1, doc2)\n",
    "\n",
    "doc1_mag = np.linalg.norm(doc1)\n",
    "doc2_mag = np.linalg.norm(doc2)\n",
    "\n",
    "cosine_similarity = dot_prod / (doc1_mag * doc2_mag)\n",
    "print(f\"Cosine similarity between doc1 and doc2 is : {cosine_similarity :.4f}\")"
   ]
  },
  {
   "cell_type": "markdown",
   "id": "a9392c06",
   "metadata": {},
   "source": [
    "Cosine similarity between doc1 and doc3"
   ]
  },
  {
   "cell_type": "code",
   "execution_count": 8,
   "id": "8ad73eb9",
   "metadata": {},
   "outputs": [
    {
     "name": "stdout",
     "output_type": "stream",
     "text": [
      "Cosine similarity between doc1 and doc3 is : 0.2735\n"
     ]
    }
   ],
   "source": [
    "dot_prod = np.dot(doc1, doc3)\n",
    "\n",
    "doc1_mag = np.linalg.norm(doc1)\n",
    "doc3_mag = np.linalg.norm(doc3)\n",
    "\n",
    "cosine_similarity = dot_prod / (doc1_mag * doc3_mag)\n",
    "print(f\"Cosine similarity between doc1 and doc3 is : {cosine_similarity :.4f}\")"
   ]
  },
  {
   "cell_type": "markdown",
   "id": "f263ddc5",
   "metadata": {},
   "source": [
    "Cosine similarity between doc2 and doc3"
   ]
  },
  {
   "cell_type": "code",
   "execution_count": 10,
   "id": "f67aa1ca",
   "metadata": {},
   "outputs": [
    {
     "name": "stdout",
     "output_type": "stream",
     "text": [
      "Cosine similarity between doc2 and doc3 is: 0.0000\n"
     ]
    }
   ],
   "source": [
    "dot_prod = np.dot(doc2, doc3)\n",
    "\n",
    "doc2_mag = np.linalg.norm(doc2)\n",
    "doc3_mag = np.linalg.norm(doc3)\n",
    "\n",
    "cosine_similarity = dot_prod / (doc2_mag * doc3_mag)\n",
    "print(f\"Cosine similarity between doc2 and doc3 is: {cosine_similarity :.4f}\")"
   ]
  }
 ],
 "metadata": {
  "kernelspec": {
   "display_name": "Python 3",
   "language": "python",
   "name": "python3"
  },
  "language_info": {
   "codemirror_mode": {
    "name": "ipython",
    "version": 3
   },
   "file_extension": ".py",
   "mimetype": "text/x-python",
   "name": "python",
   "nbconvert_exporter": "python",
   "pygments_lexer": "ipython3",
   "version": "3.13.0"
  }
 },
 "nbformat": 4,
 "nbformat_minor": 5
}
