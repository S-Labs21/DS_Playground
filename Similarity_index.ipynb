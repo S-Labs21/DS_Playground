{
 "cells": [
  {
   "cell_type": "markdown",
   "id": "55e10d74",
   "metadata": {},
   "source": [
    "Euclidean Distance"
   ]
  },
  {
   "cell_type": "code",
   "execution_count": 1,
   "id": "d5b401e4",
   "metadata": {},
   "outputs": [
    {
     "name": "stdout",
     "output_type": "stream",
     "text": [
      "Squared difference array: [9 1 4]\n"
     ]
    }
   ],
   "source": [
    "import numpy as np\n",
    "\n",
    "p1 = np.array([1, 4, 5])\n",
    "p2 = np.array([4, 5, 7])\n",
    "\n",
    "squared_diff = (p1 - p2) ** 2\n",
    "print(f\"Squared difference array: {squared_diff}\")"
   ]
  },
  {
   "cell_type": "code",
   "execution_count": 3,
   "id": "17b20641",
   "metadata": {},
   "outputs": [
    {
     "name": "stdout",
     "output_type": "stream",
     "text": [
      "Euclidean distance between p1 and p2 is: 3.7417\n"
     ]
    }
   ],
   "source": [
    "euclidean_distance = np.sqrt(np.sum(squared_diff))\n",
    "print(f\"Euclidean distance between p1 and p2 is: {euclidean_distance:.4f}\")"
   ]
  },
  {
   "cell_type": "markdown",
   "id": "7624496f",
   "metadata": {},
   "source": [
    "Manhattan Distance "
   ]
  },
  {
   "cell_type": "code",
   "execution_count": 4,
   "id": "76e01b87",
   "metadata": {},
   "outputs": [],
   "source": [
    "import numpy as np\n",
    "\n",
    "p1 = np.array([1, 4, 5])\n",
    "p2 = np.array([4, 5, 7])\n",
    "\n",
    "Abs_distance = np.abs(p1 - p2)\n",
    "Manhattan_distance = np.sum(Abs_distance)"
   ]
  },
  {
   "cell_type": "code",
   "execution_count": 5,
   "id": "cabb52fd",
   "metadata": {},
   "outputs": [
    {
     "name": "stdout",
     "output_type": "stream",
     "text": [
      "Manhattan distance between p1 and p2: 6\n"
     ]
    }
   ],
   "source": [
    "print(f\"Manhattan distance between p1 and p2: {Manhattan_distance}\")"
   ]
  },
  {
   "cell_type": "markdown",
   "id": "8b02f79c",
   "metadata": {},
   "source": [
    "Cosine similarity"
   ]
  },
  {
   "cell_type": "code",
   "execution_count": 6,
   "id": "5d7c8e41",
   "metadata": {},
   "outputs": [],
   "source": [
    "import numpy as np\n",
    "doc1 = np.array([5, 0, 3, 0, 2, 0, 0, 2, 0, 0])\n",
    "doc2 = np.array([3, 0, 2, 0, 1, 1, 0, 1, 0, 1])"
   ]
  },
  {
   "cell_type": "code",
   "execution_count": 7,
   "id": "561dffea",
   "metadata": {},
   "outputs": [],
   "source": [
    "dot_prod = np.dot(doc1, doc2)"
   ]
  },
  {
   "cell_type": "code",
   "execution_count": 8,
   "id": "3595dd76",
   "metadata": {},
   "outputs": [
    {
     "name": "stdout",
     "output_type": "stream",
     "text": [
      "Magnitude of doc1: 6.48074069840786\n",
      "Magnitude of doc2: 4.123105625617661\n"
     ]
    }
   ],
   "source": [
    "doc1_mag = np.linalg.norm(doc1)  # √(5² + 0² + 3² + 0² + ... + 0²) = 6.48\n",
    "print(f\"Magnitude of doc1: {doc1_mag}\")\n",
    "doc2_mag = np.linalg.norm(doc2)\n",
    "print(f\"Magnitude of doc2: {doc2_mag}\")"
   ]
  },
  {
   "cell_type": "code",
   "execution_count": 9,
   "id": "c395596e",
   "metadata": {},
   "outputs": [
    {
     "name": "stdout",
     "output_type": "stream",
     "text": [
      "Cosine similarity of doc1 and doc2 is : 0.9356014857063997\n"
     ]
    }
   ],
   "source": [
    "cosine_similarity = dot_prod/ (doc1_mag * doc2_mag)\n",
    "print(f\"Cosine similarity of doc1 and doc2 is : {cosine_similarity}\")"
   ]
  },
  {
   "cell_type": "markdown",
   "id": "caad28a0",
   "metadata": {},
   "source": [
    "Jaccard similarity index"
   ]
  },
  {
   "cell_type": "code",
   "execution_count": 2,
   "id": "583a5f6f",
   "metadata": {},
   "outputs": [],
   "source": [
    "import numpy as np\n",
    "\n",
    "set_A = {1, 2, 3, 4, 5, 6, 7}\n",
    "set_B = {4, 5, 6, 7, 8, 9, 10}"
   ]
  },
  {
   "cell_type": "code",
   "execution_count": 3,
   "id": "242338f8",
   "metadata": {},
   "outputs": [
    {
     "name": "stdout",
     "output_type": "stream",
     "text": [
      "Jaccard Similarity: 0.4000\n"
     ]
    }
   ],
   "source": [
    "intersection = len(set_A.intersection(set_B))  # {4, 5, 6, 7} → 2\n",
    "union = len(set_A.union(set_B))                # {1,2,3,4,5,6,7,8,9,10} → 10\n",
    "jaccard_sim = intersection / union\n",
    "print(f\"Jaccard Similarity: {jaccard_sim:.4f}\")"
   ]
  },
  {
   "cell_type": "code",
   "execution_count": 4,
   "id": "cebcd854",
   "metadata": {},
   "outputs": [
    {
     "name": "stdout",
     "output_type": "stream",
     "text": [
      "Binary Jaccard: 0.4000\n"
     ]
    }
   ],
   "source": [
    "# Example 2: Binary vectors (document terms)\n",
    "doc1 = np.array([1, 1, 0, 1, 0, 1])  # presence of words\n",
    "doc2 = np.array([1, 0, 1, 1, 0, 0])  # presence of words\n",
    "\n",
    "# For binary vectors\n",
    "intersection_count = np.sum(doc1 * doc2)        # 2 (positions 0,3)\n",
    "union_count = np.sum((doc1 + doc2) > 0)         # 5 (positions 0,1,2,3,5)\n",
    "jaccard_binary = intersection_count / union_count\n",
    "print(f\"Binary Jaccard: {jaccard_binary:.4f}\")"
   ]
  }
 ],
 "metadata": {
  "kernelspec": {
   "display_name": "Python 3",
   "language": "python",
   "name": "python3"
  },
  "language_info": {
   "codemirror_mode": {
    "name": "ipython",
    "version": 3
   },
   "file_extension": ".py",
   "mimetype": "text/x-python",
   "name": "python",
   "nbconvert_exporter": "python",
   "pygments_lexer": "ipython3",
   "version": "3.13.0"
  }
 },
 "nbformat": 4,
 "nbformat_minor": 5
}
