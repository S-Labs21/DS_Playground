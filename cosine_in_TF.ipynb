{
 "cells": [
  {
   "cell_type": "code",
   "execution_count": 1,
   "id": "d7bf165f",
   "metadata": {},
   "outputs": [],
   "source": [
    "import tensorflow as tf\n",
    "import numpy as np\n",
    "from sklearn.feature_extraction.text import TfidfVectorizer\n",
    "from sklearn.metrics.pairwise import cosine_similarity, euclidean_distances, manhattan_distances\n",
    "from sklearn.metrics import jaccard_score\n",
    "import pandas as pd\n",
    "import matplotlib.pyplot as plt\n",
    "import seaborn as sns"
   ]
  },
  {
   "cell_type": "code",
   "execution_count": 2,
   "id": "7a94b01d",
   "metadata": {},
   "outputs": [],
   "source": [
    "tf.random.set_seed(42)\n",
    "np.random.seed(42)"
   ]
  },
  {
   "cell_type": "code",
   "execution_count": 3,
   "id": "e0ec01ee",
   "metadata": {},
   "outputs": [],
   "source": [
    "sample_texts = [\n",
    "    \"Machine learning is a subset of artificial intelligence\",\n",
    "    \"Deep learning uses neural networks with multiple layers\",\n",
    "    \"Natural language processing helps computers understand human language\",\n",
    "    \"Computer vision enables machines to interpret visual information\",\n",
    "    \"Artificial intelligence mimics human cognitive functions\",\n",
    "    \"Neural networks are inspired by biological brain structures\",\n",
    "    \"Data science combines statistics and programming\",\n",
    "    \"Python is a popular programming language for AI\",\n",
    "    \"TensorFlow is an open-source machine learning framework\",\n",
    "    \"Supervised learning uses labeled training data\"\n",
    "]"
   ]
  },
  {
   "cell_type": "code",
   "execution_count": null,
   "id": "a4d832b8",
   "metadata": {},
   "outputs": [],
   "source": [
    "dataset = tf.data.Dataset.from_tensor_slices(sample_texts)\n",
    "\n",
    "texts_list = list(dataset.as_numpy_iterator())\n",
    "texts_list = [text.decode('utf-8') if isinstance(text, bytes) else text for text in texts_list]"
   ]
  },
  {
   "cell_type": "code",
   "execution_count": 5,
   "id": "a49a8d2f",
   "metadata": {},
   "outputs": [
    {
     "name": "stdout",
     "output_type": "stream",
     "text": [
      "Sample texts from TF dataset:\n",
      "1: Machine learning is a subset of artificial intelligence\n",
      "2: Deep learning uses neural networks with multiple layers\n",
      "3: Natural language processing helps computers understand human language\n",
      "4: Computer vision enables machines to interpret visual information\n",
      "5: Artificial intelligence mimics human cognitive functions\n",
      "6: Neural networks are inspired by biological brain structures\n",
      "7: Data science combines statistics and programming\n",
      "8: Python is a popular programming language for AI\n",
      "9: TensorFlow is an open-source machine learning framework\n",
      "10: Supervised learning uses labeled training data\n"
     ]
    }
   ],
   "source": [
    "print(\"Sample texts from TF dataset:\")\n",
    "for i, text in enumerate(texts_list):\n",
    "    print(f\"{i+1}: {text}\")"
   ]
  },
  {
   "cell_type": "code",
   "execution_count": 6,
   "id": "1459f53a",
   "metadata": {},
   "outputs": [
    {
     "name": "stdout",
     "output_type": "stream",
     "text": [
      "\n",
      "TF-IDF Matrix shape: (10, 47)\n",
      "Feature names (first 10): ['ai' 'artificial' 'biological' 'brain' 'cognitive' 'combines' 'computer'\n",
      " 'computers' 'data' 'deep']\n"
     ]
    }
   ],
   "source": [
    "# Create TF-IDF vectors\n",
    "vectorizer = TfidfVectorizer(stop_words='english', max_features=100)\n",
    "tfidf_matrix = vectorizer.fit_transform(texts_list)\n",
    "\n",
    "print(f\"\\nTF-IDF Matrix shape: {tfidf_matrix.shape}\")\n",
    "print(f\"Feature names (first 10): {vectorizer.get_feature_names_out()[:10]}\")"
   ]
  },
  {
   "cell_type": "code",
   "execution_count": null,
   "id": "4c3cbabc",
   "metadata": {},
   "outputs": [],
   "source": [
    "# COSINE SIMILARITY\n",
    "def compute_cosine_similarity(matrix):\n",
    "    return cosine_similarity(matrix)\n",
    "\n",
    "# EUCLIDEAN DISTANCE\n",
    "def compute_euclidean_distance(matrix):\n",
    "    return euclidean_distances(matrix)\n",
    "\n",
    "# MANHATTAN DISTANCE\n",
    "def compute_manhattan_distance(matrix):\n",
    "    return manhattan_distances(matrix)\n",
    "\n",
    "\n",
    "# def compute_jaccard_similarity(matrix):\n",
    "#     # Convert the TF-IDF matrix to binary (0/1) format\n",
    "#     binary_matrix = (matrix > 0).astype(int)\n",
    "#     n_samples = binary_matrix.shape[0]\n",
    "#     jaccard_matrix = np.zeros((n_samples, n_samples))\n",
    "    \n",
    "#     for i in range(n_samples):\n",
    "#         for j in range(n_samples):\n",
    "#             intersection = binary_matrix[i].multiply(binary_matrix[j]).sum()\n",
    "#             union = binary_matrix[i].sum() + binary_matrix[j].sum() - intersection\n",
    "#             jaccard_matrix[i, j] = intersection / union if union > 0 else 0\n",
    "    \n",
    "#     return jaccard_matrix"
   ]
  },
  {
   "cell_type": "code",
   "execution_count": null,
   "id": "b0e37838",
   "metadata": {},
   "outputs": [
    {
     "name": "stdout",
     "output_type": "stream",
     "text": [
      "[[1.         0.09726226 0.         0.         0.33484    0.\n",
      "  0.         0.         0.26892355 0.10421179]\n",
      " [0.09726226 1.         0.         0.         0.         0.26161023\n",
      "  0.         0.         0.08129964 0.22171488]\n",
      " [0.         0.         1.         0.         0.10831465 0.\n",
      "  0.         0.23357478 0.         0.        ]\n",
      " [0.         0.         0.         1.         0.         0.\n",
      "  0.         0.         0.         0.        ]\n",
      " [0.33484    0.         0.10831465 0.         1.         0.\n",
      "  0.         0.         0.         0.        ]\n",
      " [0.         0.26161023 0.         0.         0.         1.\n",
      "  0.         0.         0.         0.        ]\n",
      " [0.         0.         0.         0.         0.         0.\n",
      "  1.         0.16256576 0.         0.15511632]\n",
      " [0.         0.         0.23357478 0.         0.         0.\n",
      "  0.16256576 1.         0.         0.        ]\n",
      " [0.26892355 0.08129964 0.         0.         0.         0.\n",
      "  0.         0.         1.         0.08710862]\n",
      " [0.10421179 0.22171488 0.         0.         0.         0.\n",
      "  0.15511632 0.         0.08710862 1.        ]]\n",
      "[[0.         1.34367983 1.41421356 1.41421356 1.15339499 1.41421356\n",
      "  1.41421356 1.41421356 1.20919515 1.33849783]\n",
      " [1.34367983 0.         1.41421356 1.41421356 1.41421356 1.21522819\n",
      "  1.41421356 1.41421356 1.35550755 1.24762584]\n",
      " [1.41421356 1.41421356 0.         1.41421356 1.33542904 1.41421356\n",
      "  1.41421356 1.23808337 1.41421356 1.41421356]\n",
      " [1.41421356 1.41421356 1.41421356 0.         1.41421356 1.41421356\n",
      "  1.41421356 1.41421356 1.41421356 1.41421356]\n",
      " [1.15339499 1.41421356 1.33542904 1.41421356 0.         1.41421356\n",
      "  1.41421356 1.41421356 1.41421356 1.41421356]\n",
      " [1.41421356 1.21522819 1.41421356 1.41421356 1.41421356 0.\n",
      "  1.41421356 1.41421356 1.41421356 1.41421356]\n",
      " [1.41421356 1.41421356 1.41421356 1.41421356 1.41421356 1.41421356\n",
      "  0.         1.2941671  1.41421356 1.29991052]\n",
      " [1.41421356 1.41421356 1.23808337 1.41421356 1.41421356 1.41421356\n",
      "  1.2941671  0.         1.41421356 1.41421356]\n",
      " [1.20919515 1.35550755 1.41421356 1.41421356 1.41421356 1.41421356\n",
      "  1.41421356 1.41421356 0.         1.35121529]\n",
      " [1.33849783 1.24762584 1.41421356 1.41421356 1.41421356 1.41421356\n",
      "  1.29991052 1.41421356 1.35121529 0.        ]]\n",
      "[[0.         4.28310089 4.79069585 4.86381011 3.16377359 4.66079994\n",
      "  4.44733399 4.44733399 3.31365186 4.04593278]\n",
      " [4.28310089 0.         5.19626073 5.26937499 5.06511175 3.63011349\n",
      "  4.85289887 4.85289887 4.49129399 3.77328347]\n",
      " [4.79069585 5.19626073 0.         5.21838836 4.43481463 5.01537819\n",
      "  4.80191225 3.99552335 4.99888895 4.99900409]\n",
      " [4.86381011 5.26937499 5.21838836 0.         5.08723939 5.08849245\n",
      "  4.87502651 4.87502651 5.07200321 5.07211835]\n",
      " [3.16377359 5.06511175 4.43481463 5.08723939 0.         4.88422922\n",
      "  4.67076327 4.67076327 4.86773998 4.86785512]\n",
      " [4.66079994 3.63011349 5.01537819 5.08849245 4.88422922 0.\n",
      "  4.67201634 4.67201634 4.86899304 4.86910818]\n",
      " [4.44733399 4.85289887 4.80191225 4.87502651 4.67076327 4.67201634\n",
      "  0.         3.65216149 4.6555271  3.88620544]\n",
      " [4.44733399 4.85289887 3.99552335 4.87502651 4.67076327 4.67201634\n",
      "  3.65216149 0.         4.6555271  4.65564224]\n",
      " [3.31365186 4.49129399 4.99888895 5.07200321 4.86773998 4.86899304\n",
      "  4.6555271  4.6555271  0.         4.2704326 ]\n",
      " [4.04593278 3.77328347 4.99900409 5.07211835 4.86785512 4.86910818\n",
      "  3.88620544 4.65564224 4.2704326  0.        ]]\n",
      "[[1.         0.09090909 0.         0.         0.22222222 0.\n",
      "  0.         0.         0.22222222 0.1       ]\n",
      " [0.09090909 1.         0.         0.         0.         0.18181818\n",
      "  0.         0.         0.08333333 0.18181818]\n",
      " [0.         0.         1.         0.         0.08333333 0.\n",
      "  0.         0.09090909 0.         0.        ]\n",
      " [0.         0.         0.         1.         0.         0.\n",
      "  0.         0.         0.         0.        ]\n",
      " [0.22222222 0.         0.08333333 0.         1.         0.\n",
      "  0.         0.         0.         0.        ]\n",
      " [0.         0.18181818 0.         0.         0.         1.\n",
      "  0.         0.         0.         0.        ]\n",
      " [0.         0.         0.         0.         0.         0.\n",
      "  1.         0.11111111 0.         0.1       ]\n",
      " [0.         0.         0.09090909 0.         0.         0.\n",
      "  0.11111111 1.         0.         0.        ]\n",
      " [0.22222222 0.08333333 0.         0.         0.         0.\n",
      "  0.         0.         1.         0.09090909]\n",
      " [0.1        0.18181818 0.         0.         0.         0.\n",
      "  0.1        0.         0.09090909 1.        ]]\n"
     ]
    }
   ],
   "source": [
    "# Computing all similarity measures\n",
    "cosine_sim = compute_cosine_similarity(tfidf_matrix)\n",
    "euclidean_dist = compute_euclidean_distance(tfidf_matrix)\n",
    "manhattan_dist = compute_manhattan_distance(tfidf_matrix)\n",
    "# jaccard_sim = compute_jaccard_similarity(tfidf_matrix)\n",
    "\n",
    "\n",
    "print(cosine_sim)\n",
    "print(euclidean_dist)\n",
    "print(manhattan_dist)\n",
    "# print(jaccard_sim)"
   ]
  },
  {
   "cell_type": "code",
   "execution_count": null,
   "id": "176ecc18",
   "metadata": {},
   "outputs": [
    {
     "name": "stdout",
     "output_type": "stream",
     "text": [
      "\n",
      "COSINE SIMILARITY MATRIX:\n",
      "----------------------------------------\n",
      "         Text_1  Text_2  Text_3  Text_4  Text_5  Text_6  Text_7  Text_8  \\\n",
      "Text_1    1.000   0.097   0.000     0.0   0.335   0.000   0.000   0.000   \n",
      "Text_2    0.097   1.000   0.000     0.0   0.000   0.262   0.000   0.000   \n",
      "Text_3    0.000   0.000   1.000     0.0   0.108   0.000   0.000   0.234   \n",
      "Text_4    0.000   0.000   0.000     1.0   0.000   0.000   0.000   0.000   \n",
      "Text_5    0.335   0.000   0.108     0.0   1.000   0.000   0.000   0.000   \n",
      "Text_6    0.000   0.262   0.000     0.0   0.000   1.000   0.000   0.000   \n",
      "Text_7    0.000   0.000   0.000     0.0   0.000   0.000   1.000   0.163   \n",
      "Text_8    0.000   0.000   0.234     0.0   0.000   0.000   0.163   1.000   \n",
      "Text_9    0.269   0.081   0.000     0.0   0.000   0.000   0.000   0.000   \n",
      "Text_10   0.104   0.222   0.000     0.0   0.000   0.000   0.155   0.000   \n",
      "\n",
      "         Text_9  Text_10  \n",
      "Text_1    0.269    0.104  \n",
      "Text_2    0.081    0.222  \n",
      "Text_3    0.000    0.000  \n",
      "Text_4    0.000    0.000  \n",
      "Text_5    0.000    0.000  \n",
      "Text_6    0.000    0.000  \n",
      "Text_7    0.000    0.155  \n",
      "Text_8    0.000    0.000  \n",
      "Text_9    1.000    0.087  \n",
      "Text_10   0.087    1.000  \n"
     ]
    }
   ],
   "source": [
    "print(\"\\nCOSINE SIMILARITY MATRIX:\")\n",
    "print(\"-\" * 40)\n",
    "df_cosine = pd.DataFrame(cosine_sim, \n",
    "                        index=[f\"Text_{i+1}\" for i in range(len(texts_list))],\n",
    "                        columns=[f\"Text_{i+1}\" for i in range(len(texts_list))])\n",
    "print(df_cosine.round(3))\n"
   ]
  }
 ],
 "metadata": {
  "kernelspec": {
   "display_name": "Python 3",
   "language": "python",
   "name": "python3"
  },
  "language_info": {
   "codemirror_mode": {
    "name": "ipython",
    "version": 3
   },
   "file_extension": ".py",
   "mimetype": "text/x-python",
   "name": "python",
   "nbconvert_exporter": "python",
   "pygments_lexer": "ipython3",
   "version": "3.13.0"
  }
 },
 "nbformat": 4,
 "nbformat_minor": 5
}
